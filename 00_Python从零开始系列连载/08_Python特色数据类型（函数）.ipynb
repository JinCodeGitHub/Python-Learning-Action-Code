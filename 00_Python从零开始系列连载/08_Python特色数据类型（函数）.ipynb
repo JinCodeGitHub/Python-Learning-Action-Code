{
 "cells": [
  {
   "cell_type": "markdown",
   "metadata": {},
   "source": [
    "函数可以将问题简化，我们可以重复使用这个函数解决 y = x + 1 这一类问题\n",
    "\n",
    "所以，函数就是那些做成重复使用的程序代码\n",
    "\n",
    "#### 函数的定义\n",
    "\n",
    "函数是由函数名、参数和函数体组成，格式如下：\n",
    "\n",
    "    def 函数名（形式参数）：\n",
    "        函数体\n",
    "        [ return 返回值 ]\n",
    "\n",
    "def是系统关键字，之后的文章会系统讲一下，这里只要知道这个是用来定义函数的\n",
    "\n",
    "如果是你自己定义函数，函数名要符合变量命名规则，并且不能是系统关键字（在jupyter中，打出系统关键字是绿色的）\n"
   ]
  },
  {
   "cell_type": "markdown",
   "metadata": {},
   "source": [
    "例如，我们定义一个求两个数的和的函数："
   ]
  },
  {
   "cell_type": "code",
   "execution_count": 2,
   "metadata": {},
   "outputs": [],
   "source": [
    "def add(a, b):\n",
    "    c = a + b\n",
    "    return c"
   ]
  },
  {
   "cell_type": "markdown",
   "metadata": {},
   "source": [
    "看，这里的 def 和 return 是绿色的，也就是系统关键字\n",
    "\n",
    "这里函数名是add（英语是求和的意思）\n",
    "然后有两个形式参数，a和b\n",
    "函数体部分执行的是 c = a +b\n",
    "最后函数返回的是 c 的值\n",
    "\n",
    "这就完成了一个求和函数的定义\n",
    "\n",
    "函数的调用\n",
    "\n",
    "函数的调用很简单，我们只要根据函数的定义形式\n",
    "将实际计算时的参数值传进去就行（也可能没有参数）\n",
    "\n",
    "函数调用格式：\n",
    "\n",
    "函数名（实际参数）"
   ]
  },
  {
   "cell_type": "code",
   "execution_count": 5,
   "metadata": {},
   "outputs": [
    {
     "data": {
      "text/plain": [
       "143"
      ]
     },
     "execution_count": 5,
     "metadata": {},
     "output_type": "execute_result"
    }
   ],
   "source": [
    "add(56, 87)"
   ]
  },
  {
   "cell_type": "markdown",
   "metadata": {},
   "source": [
    "函数调用写的参数是实际参数（‘实际’体现在参数是实际执行函数使用的）\n",
    "\n",
    "函数定义写的参数是形式参数（‘形式’体现在他只是个格式和形式，真正函数执行时候还是先看实际参数）\n",
    "\n",
    "其实，Python有很多内置函数，例如我们之前课程常常使用的print（）\n",
    "\n",
    "print（）函数是内置的，所以不用定义\n",
    "\n",
    "内置：安装好Python就有的"
   ]
  },
  {
   "cell_type": "markdown",
   "metadata": {},
   "source": [
    "参数的传递\n",
    "\n",
    "函数调用时候，是将实际参数传递给形式参数\n",
    "\n",
    "函数参数的传递方法有很多\n",
    "\n",
    "#### 1. 参数按照位置顺序传递\n",
    "\n",
    "刚才的add函数就是这种，按顺序，56传递给a，87传递给b"
   ]
  },
  {
   "cell_type": "markdown",
   "metadata": {},
   "source": [
    "#### 2. 参数按赋值传递"
   ]
  },
  {
   "cell_type": "code",
   "execution_count": 6,
   "metadata": {
    "collapsed": true
   },
   "outputs": [],
   "source": [
    "def sub(a, b):\n",
    "    c = a - b\n",
    "    return c"
   ]
  },
  {
   "cell_type": "code",
   "execution_count": 8,
   "metadata": {},
   "outputs": [
    {
     "data": {
      "text/plain": [
       "-1"
      ]
     },
     "execution_count": 8,
     "metadata": {},
     "output_type": "execute_result"
    }
   ],
   "source": [
    "sub(b = 4, a = 3)"
   ]
  },
  {
   "cell_type": "markdown",
   "metadata": {},
   "source": [
    "这里定义了一个两数相减的函数\n",
    "\n",
    "注意到函数调用时候，指明了 b = 4 ， a = 3\n",
    "\n",
    "是一种赋值，所以这里的就和上个相加的例子中顺序传递参数不一样了\n",
    "\n",
    "#### 3. 参数按照默认值传递\n",
    "\n",
    "有时候，可以在函数定义里给函数形参设定一个默认值\n",
    "\n",
    "当函数实参没有传递值进来，就使用默认值\n"
   ]
  },
  {
   "cell_type": "code",
   "execution_count": 10,
   "metadata": {
    "collapsed": true
   },
   "outputs": [],
   "source": [
    "def sub(a, b = 2):\n",
    "    c = a - b\n",
    "    return c"
   ]
  },
  {
   "cell_type": "code",
   "execution_count": 11,
   "metadata": {},
   "outputs": [
    {
     "data": {
      "text/plain": [
       "38"
      ]
     },
     "execution_count": 11,
     "metadata": {},
     "output_type": "execute_result"
    }
   ],
   "source": [
    "sub(40)"
   ]
  },
  {
   "cell_type": "markdown",
   "metadata": {},
   "source": [
    "这里在定义函数时候，给形参 b 设置了默认值 2 \n",
    "\n",
    "然后调用函数时候，只传递了一个参数值 4\n",
    "\n",
    "则python默认将 4 传递给 a，因为在定义时候给 b 设定了默认值 2\n",
    "\n",
    "当然，当传入的参数是两个时候，则覆盖掉默认值，即不使用定义时候的默认参数值"
   ]
  },
  {
   "cell_type": "code",
   "execution_count": 12,
   "metadata": {},
   "outputs": [
    {
     "data": {
      "text/plain": [
       "2"
      ]
     },
     "execution_count": 12,
     "metadata": {},
     "output_type": "execute_result"
    }
   ],
   "source": [
    "sub(40, 38)"
   ]
  },
  {
   "cell_type": "markdown",
   "metadata": {},
   "source": [
    "#### 4.（难点）元组类型的变长度参数传递"
   ]
  },
  {
   "cell_type": "markdown",
   "metadata": {},
   "source": [
    "此处较为复杂，省略之"
   ]
  },
  {
   "cell_type": "code",
   "execution_count": null,
   "metadata": {
    "collapsed": true
   },
   "outputs": [],
   "source": []
  },
  {
   "cell_type": "code",
   "execution_count": null,
   "metadata": {
    "collapsed": true
   },
   "outputs": [],
   "source": []
  },
  {
   "cell_type": "code",
   "execution_count": null,
   "metadata": {
    "collapsed": true
   },
   "outputs": [],
   "source": []
  },
  {
   "cell_type": "code",
   "execution_count": null,
   "metadata": {
    "collapsed": true
   },
   "outputs": [],
   "source": []
  },
  {
   "cell_type": "code",
   "execution_count": null,
   "metadata": {
    "collapsed": true
   },
   "outputs": [],
   "source": []
  },
  {
   "cell_type": "code",
   "execution_count": null,
   "metadata": {
    "collapsed": true
   },
   "outputs": [],
   "source": []
  },
  {
   "cell_type": "code",
   "execution_count": null,
   "metadata": {
    "collapsed": true
   },
   "outputs": [],
   "source": []
  },
  {
   "cell_type": "code",
   "execution_count": null,
   "metadata": {
    "collapsed": true
   },
   "outputs": [],
   "source": []
  },
  {
   "cell_type": "code",
   "execution_count": null,
   "metadata": {
    "collapsed": true
   },
   "outputs": [],
   "source": []
  },
  {
   "cell_type": "code",
   "execution_count": null,
   "metadata": {
    "collapsed": true
   },
   "outputs": [],
   "source": []
  },
  {
   "cell_type": "code",
   "execution_count": null,
   "metadata": {
    "collapsed": true
   },
   "outputs": [],
   "source": []
  },
  {
   "cell_type": "code",
   "execution_count": null,
   "metadata": {
    "collapsed": true
   },
   "outputs": [],
   "source": []
  },
  {
   "cell_type": "code",
   "execution_count": null,
   "metadata": {
    "collapsed": true
   },
   "outputs": [],
   "source": []
  }
 ],
 "metadata": {
  "kernelspec": {
   "display_name": "Python 3",
   "language": "python",
   "name": "python3"
  },
  "language_info": {
   "codemirror_mode": {
    "name": "ipython",
    "version": 3
   },
   "file_extension": ".py",
   "mimetype": "text/x-python",
   "name": "python",
   "nbconvert_exporter": "python",
   "pygments_lexer": "ipython3",
   "version": "3.6.6"
  }
 },
 "nbformat": 4,
 "nbformat_minor": 2
}
