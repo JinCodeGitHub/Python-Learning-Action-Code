{
 "cells": [
  {
   "cell_type": "markdown",
   "metadata": {},
   "source": [
    "文件是存储在外部介质的数据集合，通常可以长久保存（前提是这个介质不易损坏）\n",
    "\n",
    "通俗点说，文件就是存放数据的地方\n",
    "\n",
    "**绝对路径与相对路径**\n",
    "\n",
    "通常，我们使用电脑的时候，例如编写了一段代码，我们要把这段代码保存，方便下次使用\n",
    "\n",
    "你可能会把这段代码保存在硬盘某个位置"
   ]
  },
  {
   "cell_type": "markdown",
   "metadata": {},
   "source": [
    "如果在Python中，我们要打开这个文件操作，该怎么操作呢？\n",
    "\n",
    "所以要打开这个文件操作也需要3个步骤：\n",
    "\n",
    "1.找出文件存放的路径，打开文件\n",
    "\n",
    "2.对文件修改操作\n",
    "\n",
    "3.关闭文件\n",
    "\n",
    "说到找出文件的存放路径，我们就必须讲讲绝对路径和相对路径的概念\n",
    "\n",
    "**绝对路径**\n",
    "\n",
    "绝对路径指的是从最初的硬盘开始一直进入到文件位置"
   ]
  },
  {
   "cell_type": "markdown",
   "metadata": {},
   "source": [
    "## 未完待续！"
   ]
  },
  {
   "cell_type": "code",
   "execution_count": null,
   "metadata": {
    "collapsed": true
   },
   "outputs": [],
   "source": []
  }
 ],
 "metadata": {
  "kernelspec": {
   "display_name": "Python 3",
   "language": "python",
   "name": "python3"
  },
  "language_info": {
   "codemirror_mode": {
    "name": "ipython",
    "version": 3
   },
   "file_extension": ".py",
   "mimetype": "text/x-python",
   "name": "python",
   "nbconvert_exporter": "python",
   "pygments_lexer": "ipython3",
   "version": "3.6.6"
  }
 },
 "nbformat": 4,
 "nbformat_minor": 2
}
