{
 "cells": [
  {
   "cell_type": "markdown",
   "metadata": {},
   "source": [
    "我们学习上之路一路走来。。。\n",
    "\n",
    "遇到了很多运行后报错\n",
    "\n",
    "报错了，也就是发生了异常情况！\n",
    "\n",
    "有时候我们想让系统提供更具体的异常信息，帮助我们解决问题\n",
    "有时候我们想忽略本次异常，让程序继续执行下去\n",
    "\n",
    "那我们该怎么办呢？"
   ]
  },
  {
   "cell_type": "markdown",
   "metadata": {},
   "source": [
    "在Python中，我们将可能出现异常的代码放在 ' 隔离区 ' 里运行\n",
    "\n",
    "这样的话，出了问题不会影响其他部分"
   ]
  },
  {
   "cell_type": "markdown",
   "metadata": {},
   "source": [
    "try...except...\n",
    "\n",
    "那怎么创建一个隔离区呢？\n",
    "\n",
    "在Python中使用try...except 结构创建 ' 隔离区 '，也就是进行异常处理\n",
    "\n",
    "try 包含的部分是放入可能出现异常的代码\n",
    "\n",
    "except 部分是来处理发生的异常\n",
    "\n",
    "结构是：\n",
    "\n",
    "try：\n",
    "\n",
    "        可能引起异常的代码\n",
    "       \n",
    "except：\n",
    "\n",
    "         对异常的处理代码"
   ]
  },
  {
   "cell_type": "code",
   "execution_count": 3,
   "metadata": {},
   "outputs": [
    {
     "name": "stdout",
     "output_type": "stream",
     "text": [
      "请输入被除数： 10\n",
      "请输入除数： 2\n",
      "5.0\n"
     ]
    }
   ],
   "source": [
    "try:\n",
    "    x = float(input('请输入被除数： '))\n",
    "    y = float(input('请输入除数： '))\n",
    "    z = x / y\n",
    "    print(z)\n",
    "except:\n",
    "    print('出问题啦！')"
   ]
  },
  {
   "cell_type": "markdown",
   "metadata": {},
   "source": [
    "以上是正常情况，try的代码部分没问题，所以相对的except的代码部分不会执行\n",
    "\n",
    "如果我们除数输入的是0："
   ]
  },
  {
   "cell_type": "code",
   "execution_count": 4,
   "metadata": {},
   "outputs": [
    {
     "name": "stdout",
     "output_type": "stream",
     "text": [
      "请输入被除数： 10\n",
      "请输入除数： 0\n",
      "出问题啦！\n"
     ]
    }
   ],
   "source": [
    "try:\n",
    "    x = float(input('请输入被除数： '))\n",
    "    y = float(input('请输入除数： '))\n",
    "    z = x / y\n",
    "    print(z)\n",
    "except:\n",
    "    print('出问题啦！')"
   ]
  },
  {
   "cell_type": "markdown",
   "metadata": {},
   "source": [
    "则首先，系统没有报错，因为try中出错，则执行except中的内容，即打印‘出问题啦！’\n",
    "\n",
    "当然，except会捕获try中所有可能出错的情况\n",
    "\n",
    "但是except异常也分为很多种，比如值异常，命名异常等\n",
    "\n",
    "因为这里是除0了，所以我们可以用除0异常来捕获这个异常"
   ]
  },
  {
   "cell_type": "code",
   "execution_count": 5,
   "metadata": {},
   "outputs": [
    {
     "name": "stdout",
     "output_type": "stream",
     "text": [
      "请输入被除数： 10\n",
      "请输入除数： 0\n",
      "除数不能为0！\n"
     ]
    }
   ],
   "source": [
    "try:\n",
    "    x = float(input('请输入被除数： '))\n",
    "    y = float(input('请输入除数： '))\n",
    "    z = x / y\n",
    "    print(z)\n",
    "except ZeroDivisionError:\n",
    "    print('除数不能为0！')"
   ]
  },
  {
   "cell_type": "markdown",
   "metadata": {},
   "source": [
    "当然，当出现的不是除0错误时候，用除0异常就不能捕获其他种类的异常："
   ]
  },
  {
   "cell_type": "code",
   "execution_count": 6,
   "metadata": {},
   "outputs": [
    {
     "name": "stdout",
     "output_type": "stream",
     "text": [
      "请输入被除数： 10\n",
      "请输入除数： a\n"
     ]
    },
    {
     "ename": "ValueError",
     "evalue": "could not convert string to float: 'a'",
     "output_type": "error",
     "traceback": [
      "\u001b[1;31m---------------------------------------------------------------------------\u001b[0m",
      "\u001b[1;31mValueError\u001b[0m                                Traceback (most recent call last)",
      "\u001b[1;32m<ipython-input-6-5f783e3cd98d>\u001b[0m in \u001b[0;36m<module>\u001b[1;34m()\u001b[0m\n\u001b[0;32m      1\u001b[0m \u001b[1;32mtry\u001b[0m\u001b[1;33m:\u001b[0m\u001b[1;33m\u001b[0m\u001b[0m\n\u001b[0;32m      2\u001b[0m     \u001b[0mx\u001b[0m \u001b[1;33m=\u001b[0m \u001b[0mfloat\u001b[0m\u001b[1;33m(\u001b[0m\u001b[0minput\u001b[0m\u001b[1;33m(\u001b[0m\u001b[1;34m'请输入被除数： '\u001b[0m\u001b[1;33m)\u001b[0m\u001b[1;33m)\u001b[0m\u001b[1;33m\u001b[0m\u001b[0m\n\u001b[1;32m----> 3\u001b[1;33m     \u001b[0my\u001b[0m \u001b[1;33m=\u001b[0m \u001b[0mfloat\u001b[0m\u001b[1;33m(\u001b[0m\u001b[0minput\u001b[0m\u001b[1;33m(\u001b[0m\u001b[1;34m'请输入除数： '\u001b[0m\u001b[1;33m)\u001b[0m\u001b[1;33m)\u001b[0m\u001b[1;33m\u001b[0m\u001b[0m\n\u001b[0m\u001b[0;32m      4\u001b[0m     \u001b[0mz\u001b[0m \u001b[1;33m=\u001b[0m \u001b[0mx\u001b[0m \u001b[1;33m/\u001b[0m \u001b[0my\u001b[0m\u001b[1;33m\u001b[0m\u001b[0m\n\u001b[0;32m      5\u001b[0m     \u001b[0mprint\u001b[0m\u001b[1;33m(\u001b[0m\u001b[0mz\u001b[0m\u001b[1;33m)\u001b[0m\u001b[1;33m\u001b[0m\u001b[0m\n",
      "\u001b[1;31mValueError\u001b[0m: could not convert string to float: 'a'"
     ]
    }
   ],
   "source": [
    "try:\n",
    "    x = float(input('请输入被除数： '))\n",
    "    y = float(input('请输入除数： '))\n",
    "    z = x / y\n",
    "    print(z)\n",
    "except ZeroDivisionError:\n",
    "    print('除数不能为0！')"
   ]
  },
  {
   "cell_type": "markdown",
   "metadata": {},
   "source": [
    "这里是值的异常，所以我们应该用ValueError来捕获这个异常："
   ]
  },
  {
   "cell_type": "code",
   "execution_count": 7,
   "metadata": {},
   "outputs": [
    {
     "name": "stdout",
     "output_type": "stream",
     "text": [
      "请输入被除数： 10\n",
      "请输入除数： a\n",
      "被除数和除数都应该是数值类型\n"
     ]
    }
   ],
   "source": [
    "try:\n",
    "    x = float(input('请输入被除数： '))\n",
    "    y = float(input('请输入除数： '))\n",
    "    z = x / y\n",
    "    print(z)\n",
    "except ZeroDivisionError:\n",
    "    print('除数不能为0！')\n",
    "except ValueError:\n",
    "    print('被除数和除数都应该是数值类型')"
   ]
  },
  {
   "cell_type": "markdown",
   "metadata": {},
   "source": [
    "注意到以上写了除0异常捕获和值异常捕获，而且他们像是if elif elif的结构\n",
    "\n",
    "意味着当try中出错时，先用除0异常捕获，如果是除0异常，则捕获到，后面的值异常捕获则不执行（因为只可能是一种异常）\n",
    "\n",
    "如果不是除0异常，则用值异常捕获，如果是值异常，则捕获到，如果是二者以外其它异常，异常没有被捕获，则运行报错\n",
    "\n",
    "try...except...finally...\n",
    "\n",
    "当我们出现异常时候，可以采用捕获方法，如果异常没被捕获，则运行出错，但是有时\n",
    "\n",
    "有些代码我们一定要让它运行（不管之前有没有运行出错）\n",
    "\n",
    "这时候，要在原先的try...except...结构中加入finally\n",
    "\n",
    "finally，正如其名，是最后的意思\n",
    "\n",
    "最后我一定要做的内容\n",
    "\n",
    "当异常被捕获："
   ]
  },
  {
   "cell_type": "code",
   "execution_count": 8,
   "metadata": {},
   "outputs": [
    {
     "name": "stdout",
     "output_type": "stream",
     "text": [
      "除了0\n",
      "我是一定会执行的\n"
     ]
    }
   ],
   "source": [
    "try:\n",
    "    z = 1/0\n",
    "except ZeroDivisionError:\n",
    "    print('除了0')\n",
    "finally:\n",
    "    print('我是一定会执行的')"
   ]
  },
  {
   "cell_type": "markdown",
   "metadata": {},
   "source": [
    "当finally之前出了异常，并且没有被捕获，照常执行finally中的内容："
   ]
  },
  {
   "cell_type": "code",
   "execution_count": 9,
   "metadata": {},
   "outputs": [
    {
     "name": "stdout",
     "output_type": "stream",
     "text": [
      "我是一定会执行的\n"
     ]
    },
    {
     "ename": "ZeroDivisionError",
     "evalue": "division by zero",
     "output_type": "error",
     "traceback": [
      "\u001b[1;31m---------------------------------------------------------------------------\u001b[0m",
      "\u001b[1;31mZeroDivisionError\u001b[0m                         Traceback (most recent call last)",
      "\u001b[1;32m<ipython-input-9-b2eb80072c16>\u001b[0m in \u001b[0;36m<module>\u001b[1;34m()\u001b[0m\n\u001b[0;32m      1\u001b[0m \u001b[1;32mtry\u001b[0m\u001b[1;33m:\u001b[0m\u001b[1;33m\u001b[0m\u001b[0m\n\u001b[1;32m----> 2\u001b[1;33m     \u001b[0mz\u001b[0m \u001b[1;33m=\u001b[0m \u001b[1;36m1\u001b[0m\u001b[1;33m/\u001b[0m\u001b[1;36m0\u001b[0m\u001b[1;33m\u001b[0m\u001b[0m\n\u001b[0m\u001b[0;32m      3\u001b[0m \u001b[1;32mexcept\u001b[0m \u001b[0mValueError\u001b[0m\u001b[1;33m:\u001b[0m\u001b[1;33m\u001b[0m\u001b[0m\n\u001b[0;32m      4\u001b[0m     \u001b[0mprint\u001b[0m\u001b[1;33m(\u001b[0m\u001b[1;34m'类型错误'\u001b[0m\u001b[1;33m)\u001b[0m\u001b[1;33m\u001b[0m\u001b[0m\n\u001b[0;32m      5\u001b[0m \u001b[1;32mfinally\u001b[0m\u001b[1;33m:\u001b[0m\u001b[1;33m\u001b[0m\u001b[0m\n",
      "\u001b[1;31mZeroDivisionError\u001b[0m: division by zero"
     ]
    }
   ],
   "source": [
    "try:\n",
    "    z = 1/0\n",
    "except ValueError:\n",
    "    print('类型错误')\n",
    "finally:\n",
    "    print('我是一定会执行的')"
   ]
  }
 ],
 "metadata": {
  "kernelspec": {
   "display_name": "Python 3",
   "language": "python",
   "name": "python3"
  },
  "language_info": {
   "codemirror_mode": {
    "name": "ipython",
    "version": 3
   },
   "file_extension": ".py",
   "mimetype": "text/x-python",
   "name": "python",
   "nbconvert_exporter": "python",
   "pygments_lexer": "ipython3",
   "version": "3.6.6"
  }
 },
 "nbformat": 4,
 "nbformat_minor": 2
}
