{
 "cells": [
  {
   "cell_type": "markdown",
   "metadata": {},
   "source": [
    "## Python的基本流程控制\n",
    "\n",
    "\n",
    "### 复合赋值语句\n",
    "\n",
    "在Python中，可以使用一次赋值符号，给多个变量同时赋值："
   ]
  },
  {
   "cell_type": "code",
   "execution_count": 1,
   "metadata": {
    "collapsed": true
   },
   "outputs": [],
   "source": [
    "a, b = 2, 3"
   ]
  },
  {
   "cell_type": "code",
   "execution_count": 2,
   "metadata": {},
   "outputs": [
    {
     "name": "stdout",
     "output_type": "stream",
     "text": [
      "2 3\n"
     ]
    }
   ],
   "source": [
    "print(a, b)"
   ]
  },
  {
   "cell_type": "code",
   "execution_count": 3,
   "metadata": {
    "collapsed": true
   },
   "outputs": [],
   "source": [
    "c, d, e, f, g, h = 'Python'"
   ]
  },
  {
   "cell_type": "code",
   "execution_count": 4,
   "metadata": {},
   "outputs": [
    {
     "name": "stdout",
     "output_type": "stream",
     "text": [
      "y\n"
     ]
    }
   ],
   "source": [
    "print(d)"
   ]
  },
  {
   "cell_type": "markdown",
   "metadata": {},
   "source": [
    "它是将'Python'这个字符串按照字符拆成6个字符，按顺序分给c,d,e,f,g,h变量"
   ]
  },
  {
   "cell_type": "code",
   "execution_count": 5,
   "metadata": {
    "collapsed": true
   },
   "outputs": [],
   "source": [
    "age_1 = 23\n",
    "age_2 = 91"
   ]
  },
  {
   "cell_type": "code",
   "execution_count": 6,
   "metadata": {
    "collapsed": true
   },
   "outputs": [],
   "source": [
    "age_1, age_2 = age_2, age_1"
   ]
  },
  {
   "cell_type": "code",
   "execution_count": 7,
   "metadata": {},
   "outputs": [
    {
     "name": "stdout",
     "output_type": "stream",
     "text": [
      "91 23\n"
     ]
    }
   ],
   "source": [
    "print(age_1, age_2)"
   ]
  },
  {
   "cell_type": "markdown",
   "metadata": {},
   "source": [
    "划重点：age_1,age_2 = age_2,age_1这种操作是Python独有的，是不是很方便\n",
    "\n",
    "记得其他语言交换两个变量的值很多情况都习惯用第三者temp"
   ]
  },
  {
   "cell_type": "markdown",
   "metadata": {},
   "source": [
    "### 顺序结构\n",
    "\n",
    "\n",
    "顺序结构指的是做一件事情是按顺序完成每个步骤的"
   ]
  },
  {
   "cell_type": "markdown",
   "metadata": {},
   "source": [
    "此处省略，自行脑补\n",
    "\n",
    "划重点：if-else-elif判断语句结尾的冒号用英文的冒号"
   ]
  },
  {
   "cell_type": "markdown",
   "metadata": {},
   "source": [
    "### 循环结构\n",
    "\n",
    "循环结构，很好理解，就是一直做某件事情，直到满足某种条件\n",
    "\n",
    "\n",
    "#### while循环\n",
    "\n",
    "我们举个例子看看："
   ]
  },
  {
   "cell_type": "code",
   "execution_count": 8,
   "metadata": {},
   "outputs": [
    {
     "name": "stdout",
     "output_type": "stream",
     "text": [
      "count = 1,  sum = 1 \n",
      "count = 2,  sum = 3 \n",
      "count = 3,  sum = 6 \n",
      "count = 4,  sum = 10 \n",
      "count = 5,  sum = 15 \n",
      "count = 6,  sum = 21 \n",
      "count = 7,  sum = 28 \n",
      "count = 8,  sum = 36 \n",
      "count = 9,  sum = 45 \n"
     ]
    }
   ],
   "source": [
    "count= 1 \n",
    "sum = 0\n",
    "while count < 10:\n",
    "    sum += count\n",
    "    print('count = %d,  sum = %d ' % (count, sum))\n",
    "    count += 1"
   ]
  },
  {
   "cell_type": "markdown",
   "metadata": {},
   "source": [
    "#### for循环\n",
    "\n",
    "我们举个例子看看："
   ]
  },
  {
   "cell_type": "code",
   "execution_count": 9,
   "metadata": {},
   "outputs": [
    {
     "name": "stdout",
     "output_type": "stream",
     "text": [
      "0\n",
      "2\n",
      "4\n",
      "6\n",
      "8\n"
     ]
    }
   ],
   "source": [
    "for i in range(0, 10, 2):\n",
    "    print(i)"
   ]
  },
  {
   "cell_type": "markdown",
   "metadata": {},
   "source": [
    "注意：这里的循环结束位置10并没有打印出来\n",
    "\n",
    "也就是刚才说的range（）函数的结束位置的值是取不到的\n",
    "\n",
    "\n",
    "\n",
    "#### 循环语句嵌套\n",
    "循环语句嵌套指的是，在一个程序中，存在这多个循环，而且这多个循环是相互嵌套的\n",
    "\n",
    "还记得分支语句那节我们说的分支语句的嵌套么\n",
    "\n",
    "我们来玩一下学编程很喜欢打印输出的九九乘法表"
   ]
  },
  {
   "cell_type": "code",
   "execution_count": 15,
   "metadata": {},
   "outputs": [
    {
     "name": "stdout",
     "output_type": "stream",
     "text": [
      "1 * 1 = 1    \n",
      "\n",
      "2 * 1 = 2    2 * 2 = 4    \n",
      "\n",
      "3 * 1 = 3    3 * 2 = 6    3 * 3 = 9    \n",
      "\n",
      "4 * 1 = 4    4 * 2 = 8    4 * 3 = 12    4 * 4 = 16    \n",
      "\n",
      "5 * 1 = 5    5 * 2 = 10    5 * 3 = 15    5 * 4 = 20    5 * 5 = 25    \n",
      "\n",
      "6 * 1 = 6    6 * 2 = 12    6 * 3 = 18    6 * 4 = 24    6 * 5 = 30    6 * 6 = 36    \n",
      "\n",
      "7 * 1 = 7    7 * 2 = 14    7 * 3 = 21    7 * 4 = 28    7 * 5 = 35    7 * 6 = 42    7 * 7 = 49    \n",
      "\n",
      "8 * 1 = 8    8 * 2 = 16    8 * 3 = 24    8 * 4 = 32    8 * 5 = 40    8 * 6 = 48    8 * 7 = 56    8 * 8 = 64    \n",
      "\n",
      "9 * 1 = 9    9 * 2 = 18    9 * 3 = 27    9 * 4 = 36    9 * 5 = 45    9 * 6 = 54    9 * 7 = 63    9 * 8 = 72    9 * 9 = 81    \n",
      "\n"
     ]
    }
   ],
   "source": [
    "for i in range(1, 10):\n",
    "    for j in range(1, i+1):\n",
    "        q = i * j \n",
    "        print('%d * %d = %d    ' % (i, j, q), end='')\n",
    "    print('\\n')"
   ]
  }
 ],
 "metadata": {
  "kernelspec": {
   "display_name": "Python 3",
   "language": "python",
   "name": "python3"
  },
  "language_info": {
   "codemirror_mode": {
    "name": "ipython",
    "version": 3
   },
   "file_extension": ".py",
   "mimetype": "text/x-python",
   "name": "python",
   "nbconvert_exporter": "python",
   "pygments_lexer": "ipython3",
   "version": "3.6.6"
  }
 },
 "nbformat": 4,
 "nbformat_minor": 2
}
