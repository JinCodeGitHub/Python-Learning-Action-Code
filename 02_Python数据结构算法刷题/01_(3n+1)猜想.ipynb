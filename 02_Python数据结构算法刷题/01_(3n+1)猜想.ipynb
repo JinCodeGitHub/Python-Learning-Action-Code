{
 "cells": [
  {
   "cell_type": "markdown",
   "metadata": {},
   "source": [
    "### (3n+1)猜想\n",
    "\n",
    "又名卡拉兹(Callatz)猜想：\n",
    "\n",
    "对任何一个自然数n，如果它是偶数，那么把它砍掉一半；如果它是奇数，那么把(3n+1)砍掉一半。这样一直反复砍下去，最后一定在某一步得到n=1。卡拉兹在1950年的世界数学家大会上公布了这个猜想，传说当时耶鲁大学师生齐动员，拼命想证明这个貌似很傻很天真的命题，结果闹得学生们无心学业，一心只证(3n+1)，以至于有人说这是一个阴谋，卡拉兹是在蓄意延缓美国数学界教学与科研的进展……\n",
    "\n",
    "我们今天的题目不是证明卡拉兹猜想，而是对给定的任一不超过1000的正整数n，简单地数一下，需要多少步（砍几下）才能得到n=1？\n",
    "\n",
    "输入格式：每个测试输入包含1个测试用例，即给出自然数n的值。\n",
    "\n",
    "输出格式：输出从n计算到1需要的步数。\n",
    "\n",
    "输入样例：\n",
    "3\n",
    "\n",
    "输出样例：\n",
    "5\n",
    "\n",
    "上代码："
   ]
  },
  {
   "cell_type": "code",
   "execution_count": 1,
   "metadata": {},
   "outputs": [
    {
     "name": "stdout",
     "output_type": "stream",
     "text": [
      "请输入0-1000内的整数： 99\n",
      "18\n"
     ]
    }
   ],
   "source": [
    "n = int(input('请输入0-1000内的整数： '))\n",
    "count = 0 \n",
    "while n != 1:\n",
    "    if n%2 == 0:\n",
    "        n = n/2\n",
    "    else:\n",
    "        n = (3*n+1)/2\n",
    "    count += 1\n",
    "print (count)"
   ]
  },
  {
   "cell_type": "markdown",
   "metadata": {},
   "source": [
    "**注意点**：\n",
    "\n",
    "1. input得到的是字符型，需要强制转换为int\n",
    "2. 这里不适合用for循环，因为不知道何时循环结束\n",
    "3. 记得初始化步数i=0，并且每次在循环里自增\n"
   ]
  },
  {
   "cell_type": "code",
   "execution_count": null,
   "metadata": {
    "collapsed": true
   },
   "outputs": [],
   "source": []
  }
 ],
 "metadata": {
  "kernelspec": {
   "display_name": "Python 3",
   "language": "python",
   "name": "python3"
  },
  "language_info": {
   "codemirror_mode": {
    "name": "ipython",
    "version": 3
   },
   "file_extension": ".py",
   "mimetype": "text/x-python",
   "name": "python",
   "nbconvert_exporter": "python",
   "pygments_lexer": "ipython3",
   "version": "3.6.6"
  }
 },
 "nbformat": 4,
 "nbformat_minor": 2
}
